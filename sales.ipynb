{
  "nbformat": 4,
  "nbformat_minor": 0,
  "metadata": {
    "colab": {
      "name": "sales.ipynb",
      "provenance": [],
      "collapsed_sections": []
    },
    "kernelspec": {
      "name": "python3",
      "display_name": "Python 3"
    },
    "language_info": {
      "name": "python"
    }
  },
  "cells": [
    {
      "cell_type": "markdown",
      "metadata": {
        "id": "-__LAp3QBVQc"
      },
      "source": [
        "**Read Inventory**"
      ]
    },
    {
      "cell_type": "code",
      "metadata": {
        "id": "ZN-6UcUrssDr"
      },
      "source": [
        "import json\n",
        "\n",
        "fd = open(\"record1 (2).json\",'r')\n",
        "r = fd.read()\n",
        "fd.close()\n",
        "\n",
        "records = json.loads(r)"
      ],
      "execution_count": 41,
      "outputs": []
    },
    {
      "cell_type": "code",
      "metadata": {
        "colab": {
          "base_uri": "https://localhost:8080/"
        },
        "id": "hpYxHrom3Eh6",
        "outputId": "0ba9221c-01c5-41dd-e814-f17b42ec44e6"
      },
      "source": [
        "records"
      ],
      "execution_count": 42,
      "outputs": [
        {
          "output_type": "execute_result",
          "data": {
            "text/plain": [
              "{'1001': {'name': 'Choco Cake', 'pr': 100, 'qn': 22},\n",
              " '1002': {'name': 'Milk Cake', 'pr': 800, 'qn': 100},\n",
              " '1003': {'name': 'Drink', 'pr': 85, 'qn': 100},\n",
              " '1004': {'name': 'Candy', 'pr': 5, 'qn': 1000},\n",
              " '1005': {'name': 'Pen', 'pr': 20, 'qn': 100},\n",
              " '1006': {'name': 'Phone', 'pr': 50000, 'qn': 10},\n",
              " '1007': {'name': 'Mic', 'pr': 1500, 'qn': 0},\n",
              " '1008': {'name': 'Case', 'pr': 599, 'qn': 5},\n",
              " '1009': {'name': 'Keyboard', 'pr': 1999, 'qn': 10},\n",
              " '1010': {'brand': 'apsara',\n",
              "  'name': 'pencil',\n",
              "  'pr': 10,\n",
              "  'qn': 100,\n",
              "  'size': 'large'},\n",
              " '1011': {'brand': 'natraj',\n",
              "  'name': 'eraser',\n",
              "  'pr': 10,\n",
              "  'qn': 90,\n",
              "  'size': 'small'},\n",
              " '1012': {'brand': 'aurelia',\n",
              "  'name': 'kurti',\n",
              "  'pr': 1000,\n",
              "  'qn': 90,\n",
              "  'size': 'large'},\n",
              " '1013': {'brand': 'vamshi',\n",
              "  'name': 'shirt',\n",
              "  'pr': 1900,\n",
              "  'qn': 90,\n",
              "  'size': 'medium'},\n",
              " '1014': {'brand': 'elina',\n",
              "  'name': 'jeans',\n",
              "  'pr': 2000,\n",
              "  'qn': 200,\n",
              "  'size': 'large'},\n",
              " '1015': {'brand': 'boat',\n",
              "  'name': 'shoes',\n",
              "  'pr': 1800,\n",
              "  'qn': 800,\n",
              "  'size': '10'},\n",
              " '1016': {'brand': 'visu',\n",
              "  'name': 'stool',\n",
              "  'pr': 180,\n",
              "  'qn': 80,\n",
              "  'size': 'large'},\n",
              " '1017': {'brand': 'kelvin',\n",
              "  'name': 'wires',\n",
              "  'pr': 200,\n",
              "  'qn': 80,\n",
              "  'size': 'large'},\n",
              " '1018': {'brand': 'veras',\n",
              "  'name': 'belt',\n",
              "  'pr': 100,\n",
              "  'qn': 290,\n",
              "  'size': 'medium'},\n",
              " '1019': {'brand': 'chunic',\n",
              "  'name': 'duppata',\n",
              "  'pr': 100,\n",
              "  'qn': 60,\n",
              "  'size': 'large'},\n",
              " '1020': {'brand': 'vicnic',\n",
              "  'name': 'gloves',\n",
              "  'pr': 180,\n",
              "  'qn': 56,\n",
              "  'size': 'medium'},\n",
              " '1021': {'brand': 'logtech',\n",
              "  'name': 'usb cable',\n",
              "  'pr': 900,\n",
              "  'qn': 80,\n",
              "  'size': 'medium'},\n",
              " '1022': {'brand': 'zucbic',\n",
              "  'name': 'earpod',\n",
              "  'pr': 500,\n",
              "  'qn': 60,\n",
              "  'size': 'large'},\n",
              " '1023': {'brand': 'kivin',\n",
              "  'name': 'saree',\n",
              "  'pr': 2000,\n",
              "  'qn': 80,\n",
              "  'size': 'large'},\n",
              " '1024': {'brand': 'brit',\n",
              "  'name': 'bourbon',\n",
              "  'pr': 100,\n",
              "  'qn': 100,\n",
              "  'size': 'large pack'},\n",
              " '1025': {'brand': 'britania',\n",
              "  'name': 'chips',\n",
              "  'pr': 50,\n",
              "  'qn': 300,\n",
              "  'size': 'small pack'},\n",
              " '1026': {'brand': 'sran',\n",
              "  'name': 'kitkat',\n",
              "  'pr': 50,\n",
              "  'qn': 50,\n",
              "  'size': 'medium'},\n",
              " '1027': {'brand': 'vic',\n",
              "  'name': 'munch',\n",
              "  'pr': 20,\n",
              "  'qn': 80,\n",
              "  'size': 'small'},\n",
              " '1028': {'brand': 'pint',\n",
              "  'name': 'vaseline',\n",
              "  'pr': 190,\n",
              "  'qn': 90,\n",
              "  'size': 'small'},\n",
              " '1029': {'brand': 'ticsan',\n",
              "  'name': 'watch',\n",
              "  'pr': 800,\n",
              "  'qn': 90,\n",
              "  'size': 'medium'},\n",
              " '1030': {'brand': 'sterin',\n",
              "  'name': 'bottles',\n",
              "  'pr': 80,\n",
              "  'qn': 90,\n",
              "  'size': 'medium'}}"
            ]
          },
          "metadata": {},
          "execution_count": 42
        }
      ]
    },
    {
      "cell_type": "markdown",
      "metadata": {
        "id": "PWn7wSK9A17t"
      },
      "source": [
        "**Purchase**"
      ]
    },
    {
      "cell_type": "code",
      "metadata": {
        "id": "NJjW4i913P14"
      },
      "source": [
        "ui_prod  = str(input(\"Enter the product_Id: \"))\n",
        "ui_quant = int(input(\"Enter the quantity: \"))\n",
        "if(ui_quant<=records[ui_prod]['qn']):\n",
        "  print('stock is available')\n",
        "  print(\"Product: \", records[ui_prod]['name'])\n",
        "  print(\"Price: \", records[ui_prod]['pr'])\n",
        "  print(\"*********************\")\n",
        "  print(\"Billing Amount: \", records[ui_prod]['pr'] * ui_quant)\n",
        "  print(\"*********************\")\n",
        "  \n",
        "  records[ui_prod]['qn'] = records[ui_prod]['qn'] - ui_quant\n",
        "\n",
        "else:\n",
        "  print('------Sorry!Out of stock.Stock will be available soon-----')"
      ],
      "execution_count": null,
      "outputs": []
    },
    {
      "cell_type": "code",
      "metadata": {
        "id": "rq12uiO8-imV"
      },
      "source": [
        "records"
      ],
      "execution_count": null,
      "outputs": []
    },
    {
      "cell_type": "markdown",
      "metadata": {
        "id": "p7VI1fvhAiJT"
      },
      "source": [
        "**Update Iventory after purchase**"
      ]
    },
    {
      "cell_type": "code",
      "metadata": {
        "id": "KalUV4SdAZrY"
      },
      "source": [
        "js = json.dumps(records)\n",
        "\n",
        "fd = open(\"record1 (2).json\",'w')\n",
        "fd.write(js)\n",
        "fd.close()"
      ],
      "execution_count": null,
      "outputs": []
    },
    {
      "cell_type": "code",
      "metadata": {
        "id": "SRv_3QRuCI11"
      },
      "source": [
        "fd = open(\"record1 (2).json\",'r')\n",
        "r = fd.read()\n",
        "fd.close()\n",
        "r"
      ],
      "execution_count": null,
      "outputs": []
    },
    {
      "cell_type": "markdown",
      "metadata": {
        "id": "124-2Q3XEe98"
      },
      "source": [
        "**Sales JSON**"
      ]
    },
    {
      "cell_type": "code",
      "metadata": {
        "colab": {
          "base_uri": "https://localhost:8080/"
        },
        "id": "ocsC63H7EjEC",
        "outputId": "5ac04cba-16bd-49ae-e714-5777d9e0f789"
      },
      "source": [
        "from datetime import date\n",
        "today=date.today()\n",
        "d1=today.strftime(\"%d/%m/%Y\")\n",
        "\n",
        "from datetime import datetime\n",
        "now=datetime.now()\n",
        "c_time=now.strftime(\"%l:%M:%S\")\n",
        "\n",
        "{'prod' : ui_prod, 'qn' : ui_quant, 'amount': records[ui_prod]['pr'] * ui_quant,'date':d1,'Time':c_time}"
      ],
      "execution_count": 142,
      "outputs": [
        {
          "output_type": "execute_result",
          "data": {
            "text/plain": [
              "{'Time': ' 8:46:12',\n",
              " 'amount': 1200,\n",
              " 'date': '06/09/2021',\n",
              " 'prod': '1001',\n",
              " 'qn': 12}"
            ]
          },
          "metadata": {},
          "execution_count": 142
        }
      ]
    },
    {
      "cell_type": "code",
      "metadata": {
        "id": "HQV0cDzdFItr"
      },
      "source": [
        "sales = {1 : {'prod' : ui_prod, 'qn' : ui_quant, 'amount': records[ui_prod]['pr'] * ui_quant,'date':d1,'Time':c_time},\n",
        "         2 : {'prod' : ui_prod, 'qn' : ui_quant, 'amount': records[ui_prod]['pr'] * ui_quant,'date':d1,'Time':c_time},\n",
        "         3 : {'prod' : ui_prod, 'qn' : ui_quant, 'amount': records[ui_prod]['pr'] * ui_quant,'date':d1,'Time':c_time}}"
      ],
      "execution_count": 143,
      "outputs": []
    },
    {
      "cell_type": "code",
      "metadata": {
        "colab": {
          "base_uri": "https://localhost:8080/",
          "height": 69
        },
        "id": "iCoz4BhwF43R",
        "outputId": "b8612855-acdc-43b7-fe57-f359e0b09f3b"
      },
      "source": [
        "sale = json.dumps(sales)\n",
        "sale"
      ],
      "execution_count": 144,
      "outputs": [
        {
          "output_type": "execute_result",
          "data": {
            "application/vnd.google.colaboratory.intrinsic+json": {
              "type": "string"
            },
            "text/plain": [
              "'{\"1\": {\"prod\": \"1001\", \"qn\": 12, \"amount\": 1200, \"date\": \"06/09/2021\", \"Time\": \" 8:46:12\"}, \"2\": {\"prod\": \"1001\", \"qn\": 12, \"amount\": 1200, \"date\": \"06/09/2021\", \"Time\": \" 8:46:12\"}, \"3\": {\"prod\": \"1001\", \"qn\": 12, \"amount\": 1200, \"date\": \"06/09/2021\", \"Time\": \" 8:46:12\"}}'"
            ]
          },
          "metadata": {},
          "execution_count": 144
        }
      ]
    },
    {
      "cell_type": "code",
      "metadata": {
        "colab": {
          "base_uri": "https://localhost:8080/"
        },
        "id": "PyXP81hfLlR6",
        "outputId": "3aff9452-541b-4ffb-cd88-18879d9daf18"
      },
      "source": [
        "{(len(sales)+1):{'prod' : ui_prod, 'qn' : ui_quant, 'amount': records[ui_prod]['pr'] * ui_quant,'date':d1,'Time':c_time}}"
      ],
      "execution_count": 146,
      "outputs": [
        {
          "output_type": "execute_result",
          "data": {
            "text/plain": [
              "{4: {'Time': ' 8:46:12',\n",
              "  'amount': 1200,\n",
              "  'date': '06/09/2021',\n",
              "  'prod': '1001',\n",
              "  'qn': 12}}"
            ]
          },
          "metadata": {},
          "execution_count": 146
        }
      ]
    },
    {
      "cell_type": "code",
      "metadata": {
        "id": "MVepY-SMHs3d"
      },
      "source": [
        "sales[(len(sales)+1)]={'prod' : ui_prod, 'qn' : ui_quant, 'amount': records[ui_prod]['pr'] * ui_quant,'date':d1,'Time':c_time}"
      ],
      "execution_count": 147,
      "outputs": []
    },
    {
      "cell_type": "code",
      "metadata": {
        "id": "r8Yog7ZALHhl"
      },
      "source": [
        "sales"
      ],
      "execution_count": null,
      "outputs": []
    },
    {
      "cell_type": "code",
      "metadata": {
        "id": "vUtGXH_NStMg"
      },
      "source": [
        "fd=open(\"sales.json\",'w')\n",
        "r=fd.write(sale)\n",
        "fd.close()"
      ],
      "execution_count": 150,
      "outputs": []
    },
    {
      "cell_type": "code",
      "metadata": {
        "colab": {
          "base_uri": "https://localhost:8080/"
        },
        "id": "1IBq-qHWTHHM",
        "outputId": "4d0c5b4c-47ae-46b6-bb1f-b45f91ea246d"
      },
      "source": [
        "r"
      ],
      "execution_count": 151,
      "outputs": [
        {
          "output_type": "execute_result",
          "data": {
            "text/plain": [
              "273"
            ]
          },
          "metadata": {},
          "execution_count": 151
        }
      ]
    }
  ]
}