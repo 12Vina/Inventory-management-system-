{
  "nbformat": 4,
  "nbformat_minor": 0,
  "metadata": {
    "colab": {
      "name": "purchase.ipynb",
      "provenance": [],
      "collapsed_sections": []
    },
    "kernelspec": {
      "name": "python3",
      "display_name": "Python 3"
    },
    "language_info": {
      "name": "python"
    }
  },
  "cells": [
    {
      "cell_type": "code",
      "metadata": {
        "id": "8AxfodSY0PE4"
      },
      "source": [
        "import json\n",
        "fd = open('record1.json','r')\n",
        "\n",
        "txt = fd.read()\n",
        "\n",
        "fd.close()\n",
        "record = json.loads(txt)"
      ],
      "execution_count": 5,
      "outputs": []
    },
    {
      "cell_type": "code",
      "metadata": {
        "colab": {
          "base_uri": "https://localhost:8080/"
        },
        "id": "k7AfozVM0SMf",
        "outputId": "5c194f95-c4f2-43b6-c2fe-ca6dcd71b162"
      },
      "source": [
        "record"
      ],
      "execution_count": 6,
      "outputs": [
        {
          "output_type": "execute_result",
          "data": {
            "text/plain": [
              "{'1001': {'name': 'Choco Cake', 'pr': 100, 'qn': 34},\n",
              " '1002': {'name': 'Milk Cake', 'pr': 800, 'qn': 100},\n",
              " '1003': {'name': 'Drink', 'pr': 85, 'qn': 100},\n",
              " '1004': {'name': 'Candy', 'pr': 5, 'qn': 1000},\n",
              " '1005': {'name': 'Pen', 'pr': 20, 'qn': 100},\n",
              " '1006': {'name': 'Phone', 'pr': 50000, 'qn': 10},\n",
              " '1007': {'name': 'Mic', 'pr': 1500, 'qn': 0},\n",
              " '1008': {'name': 'Case', 'pr': 599, 'qn': 5},\n",
              " '1009': {'name': 'Keyboard', 'pr': 1999, 'qn': 10}}"
            ]
          },
          "metadata": {},
          "execution_count": 6
        }
      ]
    },
    {
      "cell_type": "code",
      "metadata": {
        "colab": {
          "base_uri": "https://localhost:8080/"
        },
        "id": "UYNeftnOULnW",
        "outputId": "3e4ff3b7-4c8e-47d1-ca82-330b1ebeb5fd"
      },
      "source": [
        "#Add New Item into Inventory\n",
        "prod_id = str(input(\"Enter product id:\"))\n",
        "name = str(input(\"Enter name:\"))\n",
        "pr = int(input(\"Enter price:\"))\n",
        "qn = int(input(\"Enter quantity:\"))\n",
        "bd=str(input('Enter brand:'))\n",
        "sz=str(input('Enter size:'))\n",
        "record[prod_id] = {'name': name, 'pr': pr, 'qn': qn,'brand': bd,'size': sz}\n",
        "\n",
        "js = json.dumps(record)\n",
        "\n",
        "fd = open(\"record1.json\",'w')\n",
        "fd.write(js)\n",
        "fd.close()"
      ],
      "execution_count": 73,
      "outputs": [
        {
          "name": "stdout",
          "output_type": "stream",
          "text": [
            "Enter product id:1030\n",
            "Enter name:bottles\n",
            "Enter price:80\n",
            "Enter quantity:90\n",
            "Enter brand:sterin\n",
            "Enter size:medium\n"
          ]
        }
      ]
    },
    {
      "cell_type": "code",
      "metadata": {
        "colab": {
          "base_uri": "https://localhost:8080/"
        },
        "id": "a0nXCMgFUUfm",
        "outputId": "99286d37-47e7-421a-cd32-b114da77cd76"
      },
      "source": [
        "record"
      ],
      "execution_count": 74,
      "outputs": [
        {
          "output_type": "execute_result",
          "data": {
            "text/plain": [
              "{'1001': {'name': 'Choco Cake', 'pr': 100, 'qn': 34},\n",
              " '1002': {'name': 'Milk Cake', 'pr': 800, 'qn': 100},\n",
              " '1003': {'name': 'Drink', 'pr': 85, 'qn': 100},\n",
              " '1004': {'name': 'Candy', 'pr': 5, 'qn': 1000},\n",
              " '1005': {'name': 'Pen', 'pr': 20, 'qn': 100},\n",
              " '1006': {'name': 'Phone', 'pr': 50000, 'qn': 10},\n",
              " '1007': {'name': 'Mic', 'pr': 1500, 'qn': 0},\n",
              " '1008': {'name': 'Case', 'pr': 599, 'qn': 5},\n",
              " '1009': {'name': 'Keyboard', 'pr': 1999, 'qn': 10},\n",
              " '1010': {'brand': 'apsara',\n",
              "  'name': 'pencil',\n",
              "  'pr': 10,\n",
              "  'qn': 100,\n",
              "  'size': 'large'},\n",
              " '1011': {'brand': 'natraj',\n",
              "  'name': 'eraser',\n",
              "  'pr': 10,\n",
              "  'qn': 90,\n",
              "  'size': 'small'},\n",
              " '1012': {'brand': 'aurelia',\n",
              "  'name': 'kurti',\n",
              "  'pr': 1000,\n",
              "  'qn': 90,\n",
              "  'size': 'large'},\n",
              " '1013': {'brand': 'vamshi',\n",
              "  'name': 'shirt',\n",
              "  'pr': 1900,\n",
              "  'qn': 90,\n",
              "  'size': 'medium'},\n",
              " '1014': {'brand': 'elina',\n",
              "  'name': 'jeans',\n",
              "  'pr': 2000,\n",
              "  'qn': 200,\n",
              "  'size': 'large'},\n",
              " '1015': {'brand': 'boat',\n",
              "  'name': 'shoes',\n",
              "  'pr': 1800,\n",
              "  'qn': 800,\n",
              "  'size': '10'},\n",
              " '1016': {'brand': 'visu',\n",
              "  'name': 'stool',\n",
              "  'pr': 180,\n",
              "  'qn': 80,\n",
              "  'size': 'large'},\n",
              " '1017': {'brand': 'kelvin',\n",
              "  'name': 'wires',\n",
              "  'pr': 200,\n",
              "  'qn': 80,\n",
              "  'size': 'large'},\n",
              " '1018': {'brand': 'veras',\n",
              "  'name': 'belt',\n",
              "  'pr': 100,\n",
              "  'qn': 290,\n",
              "  'size': 'medium'},\n",
              " '1019': {'brand': 'chunic',\n",
              "  'name': 'duppata',\n",
              "  'pr': 100,\n",
              "  'qn': 60,\n",
              "  'size': 'large'},\n",
              " '1020': {'brand': 'vicnic',\n",
              "  'name': 'gloves',\n",
              "  'pr': 180,\n",
              "  'qn': 56,\n",
              "  'size': 'medium'},\n",
              " '1021': {'brand': 'logtech',\n",
              "  'name': 'usb cable',\n",
              "  'pr': 900,\n",
              "  'qn': 80,\n",
              "  'size': 'medium'},\n",
              " '1022': {'brand': 'zucbic',\n",
              "  'name': 'earpod',\n",
              "  'pr': 500,\n",
              "  'qn': 60,\n",
              "  'size': 'large'},\n",
              " '1023': {'brand': 'kivin',\n",
              "  'name': 'saree',\n",
              "  'pr': 2000,\n",
              "  'qn': 80,\n",
              "  'size': 'large'},\n",
              " '1024': {'brand': 'brit',\n",
              "  'name': 'bourbon',\n",
              "  'pr': 100,\n",
              "  'qn': 100,\n",
              "  'size': 'large pack'},\n",
              " '1025': {'brand': 'britania',\n",
              "  'name': 'chips',\n",
              "  'pr': 50,\n",
              "  'qn': 300,\n",
              "  'size': 'small pack'},\n",
              " '1026': {'brand': 'sran',\n",
              "  'name': 'kitkat',\n",
              "  'pr': 50,\n",
              "  'qn': 50,\n",
              "  'size': 'medium'},\n",
              " '1027': {'brand': 'vic',\n",
              "  'name': 'munch',\n",
              "  'pr': 20,\n",
              "  'qn': 80,\n",
              "  'size': 'small'},\n",
              " '1028': {'brand': 'pint',\n",
              "  'name': 'vaseline',\n",
              "  'pr': 190,\n",
              "  'qn': 90,\n",
              "  'size': 'small'},\n",
              " '1029': {'brand': 'ticsan',\n",
              "  'name': 'watch',\n",
              "  'pr': 800,\n",
              "  'qn': 90,\n",
              "  'size': 'medium'},\n",
              " '1030': {'brand': 'sterin',\n",
              "  'name': 'bottles',\n",
              "  'pr': 80,\n",
              "  'qn': 90,\n",
              "  'size': 'medium'}}"
            ]
          },
          "metadata": {},
          "execution_count": 74
        }
      ]
    },
    {
      "cell_type": "code",
      "metadata": {
        "id": "1a30qQhudv-x"
      },
      "source": [
        ""
      ],
      "execution_count": null,
      "outputs": []
    }
  ]
}